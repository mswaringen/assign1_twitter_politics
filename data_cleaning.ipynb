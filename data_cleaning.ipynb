{
 "cells": [
  {
   "cell_type": "code",
   "execution_count": 1,
   "metadata": {
    "cell_id": "00000-92a19969-826b-4b89-81e3-c253302973fc",
    "output_cleared": false
   },
   "outputs": [],
   "source": [
    "import pandas as pd \n",
    "import json"
   ]
  },
  {
   "cell_type": "markdown",
   "metadata": {},
   "source": [
    "### Import from JSON\n",
    "Using code from Lecture 4"
   ]
  },
  {
   "cell_type": "code",
   "execution_count": 2,
   "metadata": {
    "cell_id": "00002-c4a73508-d888-46b5-a617-1018ab98783a",
    "output_cleared": false,
    "tags": []
   },
   "outputs": [],
   "source": [
    "tweets_data = []\n",
    "tweets_file = open(r'/home/mark/code/assign1_twitter_politics/data/geotagged_tweets_20160812-0912.jsons','r')\n",
    "\n",
    "for line in tweets_file:\n",
    "    try:\n",
    "        tweet = json.loads(line)\n",
    "        tweets_data.append(tweet)\n",
    "#         print (\"Imported tweet created at:\", tweet['created_at'])\n",
    "    except Exception as e:\n",
    "        print(\"Error: \", e)\n",
    "        continue"
   ]
  },
  {
   "cell_type": "markdown",
   "metadata": {},
   "source": [
    "Number of tweets & sample row"
   ]
  },
  {
   "cell_type": "code",
   "execution_count": 3,
   "metadata": {
    "cell_id": "00003-5b0b8977-9416-4535-bcdb-022c8fe2cb7c",
    "output_cleared": false,
    "tags": []
   },
   "outputs": [
    {
     "name": "stdout",
     "output_type": "stream",
     "text": [
      "# of tweets loaded:  657307\n"
     ]
    }
   ],
   "source": [
    "print(\"# of tweets loaded: \",len(tweets_data))"
   ]
  },
  {
   "cell_type": "code",
   "execution_count": 4,
   "metadata": {},
   "outputs": [
    {
     "data": {
      "text/plain": [
       "{'created_at': 'Fri Aug 12 10:04:00 +0000 2016',\n",
       " 'id': 764039724818272256,\n",
       " 'id_str': '764039724818272256',\n",
       " 'text': '@theblaze @realDonaldTrump https://t.co/TY9DlZ584c',\n",
       " 'source': '<a href=\"http://twitter.com/download/iphone\" rel=\"nofollow\">Twitter for iPhone</a>',\n",
       " 'truncated': False,\n",
       " 'in_reply_to_status_id': 764038820476051456,\n",
       " 'in_reply_to_status_id_str': '764038820476051456',\n",
       " 'in_reply_to_user_id': 10774652,\n",
       " 'in_reply_to_user_id_str': '10774652',\n",
       " 'in_reply_to_screen_name': 'theblaze',\n",
       " 'user': {'id': 366636488,\n",
       "  'id_str': '366636488',\n",
       "  'name': 'GIL DUPUY',\n",
       "  'screen_name': 'DUPUY77',\n",
       "  'location': 'Miami',\n",
       "  'url': 'http://ggm-dupuy.com',\n",
       "  'description': \"Fashion photographer, love action and adventure, care for the less fortunate, don't tolerate any kind of racism regardless of race or religion\",\n",
       "  'protected': False,\n",
       "  'verified': False,\n",
       "  'followers_count': 186,\n",
       "  'friends_count': 446,\n",
       "  'listed_count': 19,\n",
       "  'favourites_count': 1708,\n",
       "  'statuses_count': 17620,\n",
       "  'created_at': 'Fri Sep 02 14:54:17 +0000 2011',\n",
       "  'utc_offset': None,\n",
       "  'time_zone': None,\n",
       "  'geo_enabled': True,\n",
       "  'lang': 'en',\n",
       "  'contributors_enabled': False,\n",
       "  'is_translator': False,\n",
       "  'profile_background_color': '131516',\n",
       "  'profile_background_image_url': 'http://abs.twimg.com/images/themes/theme14/bg.gif',\n",
       "  'profile_background_image_url_https': 'https://abs.twimg.com/images/themes/theme14/bg.gif',\n",
       "  'profile_background_tile': True,\n",
       "  'profile_link_color': '009999',\n",
       "  'profile_sidebar_border_color': 'EEEEEE',\n",
       "  'profile_sidebar_fill_color': 'EFEFEF',\n",
       "  'profile_text_color': '333333',\n",
       "  'profile_use_background_image': True,\n",
       "  'profile_image_url': 'http://pbs.twimg.com/profile_images/760915612910497792/bz4WtvbZ_normal.jpg',\n",
       "  'profile_image_url_https': 'https://pbs.twimg.com/profile_images/760915612910497792/bz4WtvbZ_normal.jpg',\n",
       "  'default_profile': False,\n",
       "  'default_profile_image': False,\n",
       "  'following': None,\n",
       "  'follow_request_sent': None,\n",
       "  'notifications': None},\n",
       " 'geo': None,\n",
       " 'coordinates': None,\n",
       " 'place': {'id': '29a119f18820c3ad',\n",
       "  'url': 'https://api.twitter.com/1.1/geo/id/29a119f18820c3ad.json',\n",
       "  'place_type': 'city',\n",
       "  'name': 'Frontenac',\n",
       "  'full_name': 'Frontenac, MO',\n",
       "  'country_code': 'US',\n",
       "  'country': 'United States',\n",
       "  'bounding_box': {'type': 'Polygon',\n",
       "   'coordinates': [[[-90.433909, 38.606163],\n",
       "     [-90.433909, 38.647891],\n",
       "     [-90.405462, 38.647891],\n",
       "     [-90.405462, 38.606163]]]},\n",
       "  'attributes': {}},\n",
       " 'contributors': None,\n",
       " 'is_quote_status': False,\n",
       " 'retweet_count': 0,\n",
       " 'favorite_count': 0,\n",
       " 'entities': {'hashtags': [],\n",
       "  'urls': [],\n",
       "  'user_mentions': [{'screen_name': 'theblaze',\n",
       "    'name': 'TheBlaze',\n",
       "    'id': 10774652,\n",
       "    'id_str': '10774652',\n",
       "    'indices': [0, 9]},\n",
       "   {'screen_name': 'realDonaldTrump',\n",
       "    'name': 'Donald J. Trump',\n",
       "    'id': 25073877,\n",
       "    'id_str': '25073877',\n",
       "    'indices': [10, 26]}],\n",
       "  'symbols': [],\n",
       "  'media': [{'id': 764039718237409281,\n",
       "    'id_str': '764039718237409281',\n",
       "    'indices': [27, 50],\n",
       "    'media_url': 'http://pbs.twimg.com/media/CppqE1_UkAE2qFj.jpg',\n",
       "    'media_url_https': 'https://pbs.twimg.com/media/CppqE1_UkAE2qFj.jpg',\n",
       "    'url': 'https://t.co/TY9DlZ584c',\n",
       "    'display_url': 'pic.twitter.com/TY9DlZ584c',\n",
       "    'expanded_url': 'http://twitter.com/DUPUY77/status/764039724818272256/photo/1',\n",
       "    'type': 'photo',\n",
       "    'sizes': {'medium': {'w': 640, 'h': 1136, 'resize': 'fit'},\n",
       "     'large': {'w': 640, 'h': 1136, 'resize': 'fit'},\n",
       "     'thumb': {'w': 150, 'h': 150, 'resize': 'crop'},\n",
       "     'small': {'w': 383, 'h': 680, 'resize': 'fit'}}}]},\n",
       " 'extended_entities': {'media': [{'id': 764039718237409281,\n",
       "    'id_str': '764039718237409281',\n",
       "    'indices': [27, 50],\n",
       "    'media_url': 'http://pbs.twimg.com/media/CppqE1_UkAE2qFj.jpg',\n",
       "    'media_url_https': 'https://pbs.twimg.com/media/CppqE1_UkAE2qFj.jpg',\n",
       "    'url': 'https://t.co/TY9DlZ584c',\n",
       "    'display_url': 'pic.twitter.com/TY9DlZ584c',\n",
       "    'expanded_url': 'http://twitter.com/DUPUY77/status/764039724818272256/photo/1',\n",
       "    'type': 'photo',\n",
       "    'sizes': {'medium': {'w': 640, 'h': 1136, 'resize': 'fit'},\n",
       "     'large': {'w': 640, 'h': 1136, 'resize': 'fit'},\n",
       "     'thumb': {'w': 150, 'h': 150, 'resize': 'crop'},\n",
       "     'small': {'w': 383, 'h': 680, 'resize': 'fit'}}}]},\n",
       " 'favorited': False,\n",
       " 'retweeted': False,\n",
       " 'possibly_sensitive': False,\n",
       " 'filter_level': 'low',\n",
       " 'lang': 'und',\n",
       " 'timestamp_ms': '1470996240225'}"
      ]
     },
     "execution_count": 4,
     "metadata": {},
     "output_type": "execute_result"
    }
   ],
   "source": [
    "tweets_data[0]"
   ]
  },
  {
   "cell_type": "markdown",
   "metadata": {},
   "source": [
    "### Create Dataframe\n",
    "Using code from Lecture 4"
   ]
  },
  {
   "cell_type": "code",
   "execution_count": 6,
   "metadata": {},
   "outputs": [],
   "source": [
    "tweets = pd.DataFrame()\n",
    "tweets['text'] = list(map(lambda tweet: tweet['text'], tweets_data))\n",
    "tweets['lang'] = list(map(lambda tweet: tweet['lang'], tweets_data))\n",
    "tweets['country'] = list(map(lambda tweet: tweet['place']['country']\n",
    "                             if tweet['place'] != None else None,\n",
    "                             tweets_data))"
   ]
  },
  {
   "cell_type": "markdown",
   "metadata": {},
   "source": [
    "### Save Dataframe to Feather file format\n",
    "\n",
    "* Comparison of DF file formats: https://towardsdatascience.com/the-best-format-to-save-pandas-data-414dca023e0d\n",
    "* Feather syntax: https://robotwealth.com/feather-r-python-data-frame/\n",
    "\n",
    "Must install Feather `conda install feather-format -c conda-forge`"
   ]
  },
  {
   "cell_type": "code",
   "execution_count": 7,
   "metadata": {},
   "outputs": [],
   "source": [
    "tweets.to_feather(r'data/tweets_test.feather') "
   ]
  }
 ],
 "metadata": {
  "deepnote_execution_queue": [],
  "deepnote_notebook_id": "077682a9-4131-42f5-86eb-dc1b9ae508f7",
  "kernelspec": {
   "display_name": "Python 3",
   "language": "python",
   "name": "python3"
  },
  "language_info": {
   "codemirror_mode": {
    "name": "ipython",
    "version": 3
   },
   "file_extension": ".py",
   "mimetype": "text/x-python",
   "name": "python",
   "nbconvert_exporter": "python",
   "pygments_lexer": "ipython3",
   "version": "3.8.3"
  }
 },
 "nbformat": 4,
 "nbformat_minor": 4
}
