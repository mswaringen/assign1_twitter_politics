{
 "cells": [
  {
   "cell_type": "code",
   "execution_count": 1,
   "metadata": {},
   "outputs": [],
   "source": [
    "import pandas as pd\n",
    "import matplotlib.pyplot as plt"
   ]
  },
  {
   "cell_type": "code",
   "execution_count": 2,
   "metadata": {},
   "outputs": [],
   "source": [
    "# pd.set_option('display.max_rows', None)"
   ]
  },
  {
   "cell_type": "markdown",
   "metadata": {},
   "source": [
    "### Load DF from Feather file"
   ]
  },
  {
   "cell_type": "code",
   "execution_count": 3,
   "metadata": {},
   "outputs": [
    {
     "data": {
      "text/html": [
       "<div>\n",
       "<style scoped>\n",
       "    .dataframe tbody tr th:only-of-type {\n",
       "        vertical-align: middle;\n",
       "    }\n",
       "\n",
       "    .dataframe tbody tr th {\n",
       "        vertical-align: top;\n",
       "    }\n",
       "\n",
       "    .dataframe thead th {\n",
       "        text-align: right;\n",
       "    }\n",
       "</style>\n",
       "<table border=\"1\" class=\"dataframe\">\n",
       "  <thead>\n",
       "    <tr style=\"text-align: right;\">\n",
       "      <th></th>\n",
       "      <th>created_at</th>\n",
       "      <th>text</th>\n",
       "      <th>lang</th>\n",
       "      <th>full_location</th>\n",
       "      <th>country</th>\n",
       "      <th>favorite_count</th>\n",
       "      <th>retweet_count</th>\n",
       "      <th>verified_user</th>\n",
       "      <th>follower_count</th>\n",
       "      <th>user_creation_date</th>\n",
       "    </tr>\n",
       "  </thead>\n",
       "  <tbody>\n",
       "    <tr>\n",
       "      <th>0</th>\n",
       "      <td>Fri Aug 12 10:04:00 +0000 2016</td>\n",
       "      <td>@theblaze @realDonaldTrump https://t.co/TY9DlZ...</td>\n",
       "      <td>und</td>\n",
       "      <td>Frontenac, MO</td>\n",
       "      <td>United States</td>\n",
       "      <td>0</td>\n",
       "      <td>0</td>\n",
       "      <td>False</td>\n",
       "      <td>186</td>\n",
       "      <td>Fri Sep 02 14:54:17 +0000 2011</td>\n",
       "    </tr>\n",
       "    <tr>\n",
       "      <th>1</th>\n",
       "      <td>Fri Aug 12 10:04:02 +0000 2016</td>\n",
       "      <td>@BarackObama \\n@FBI\\n@LORETTALYNCH \\nALL IN CO...</td>\n",
       "      <td>en</td>\n",
       "      <td>Baton Rouge, LA</td>\n",
       "      <td>United States</td>\n",
       "      <td>0</td>\n",
       "      <td>0</td>\n",
       "      <td>False</td>\n",
       "      <td>531</td>\n",
       "      <td>Thu Oct 15 00:28:04 +0000 2009</td>\n",
       "    </tr>\n",
       "    <tr>\n",
       "      <th>2</th>\n",
       "      <td>Fri Aug 12 10:04:10 +0000 2016</td>\n",
       "      <td>@theblaze @realDonaldTrump https://t.co/n050DB...</td>\n",
       "      <td>und</td>\n",
       "      <td>Frontenac, MO</td>\n",
       "      <td>United States</td>\n",
       "      <td>0</td>\n",
       "      <td>0</td>\n",
       "      <td>False</td>\n",
       "      <td>186</td>\n",
       "      <td>Fri Sep 02 14:54:17 +0000 2011</td>\n",
       "    </tr>\n",
       "    <tr>\n",
       "      <th>3</th>\n",
       "      <td>Fri Aug 12 10:04:21 +0000 2016</td>\n",
       "      <td>@HillaryClinton he will do in one year all the...</td>\n",
       "      <td>en</td>\n",
       "      <td>Melbourne, Victoria</td>\n",
       "      <td>Australia</td>\n",
       "      <td>0</td>\n",
       "      <td>0</td>\n",
       "      <td>False</td>\n",
       "      <td>180</td>\n",
       "      <td>Tue Jun 02 01:59:59 +0000 2009</td>\n",
       "    </tr>\n",
       "    <tr>\n",
       "      <th>4</th>\n",
       "      <td>Fri Aug 12 10:04:30 +0000 2016</td>\n",
       "      <td>#CNN #newday clear #Trump deliberately throwin...</td>\n",
       "      <td>en</td>\n",
       "      <td>Baltimore, MD</td>\n",
       "      <td>United States</td>\n",
       "      <td>0</td>\n",
       "      <td>0</td>\n",
       "      <td>False</td>\n",
       "      <td>2652</td>\n",
       "      <td>Mon Aug 20 09:43:48 +0000 2012</td>\n",
       "    </tr>\n",
       "  </tbody>\n",
       "</table>\n",
       "</div>"
      ],
      "text/plain": [
       "                       created_at  \\\n",
       "0  Fri Aug 12 10:04:00 +0000 2016   \n",
       "1  Fri Aug 12 10:04:02 +0000 2016   \n",
       "2  Fri Aug 12 10:04:10 +0000 2016   \n",
       "3  Fri Aug 12 10:04:21 +0000 2016   \n",
       "4  Fri Aug 12 10:04:30 +0000 2016   \n",
       "\n",
       "                                                text lang  \\\n",
       "0  @theblaze @realDonaldTrump https://t.co/TY9DlZ...  und   \n",
       "1  @BarackObama \\n@FBI\\n@LORETTALYNCH \\nALL IN CO...   en   \n",
       "2  @theblaze @realDonaldTrump https://t.co/n050DB...  und   \n",
       "3  @HillaryClinton he will do in one year all the...   en   \n",
       "4  #CNN #newday clear #Trump deliberately throwin...   en   \n",
       "\n",
       "         full_location        country  favorite_count  retweet_count  \\\n",
       "0        Frontenac, MO  United States               0              0   \n",
       "1      Baton Rouge, LA  United States               0              0   \n",
       "2        Frontenac, MO  United States               0              0   \n",
       "3  Melbourne, Victoria      Australia               0              0   \n",
       "4        Baltimore, MD  United States               0              0   \n",
       "\n",
       "   verified_user  follower_count              user_creation_date  \n",
       "0          False             186  Fri Sep 02 14:54:17 +0000 2011  \n",
       "1          False             531  Thu Oct 15 00:28:04 +0000 2009  \n",
       "2          False             186  Fri Sep 02 14:54:17 +0000 2011  \n",
       "3          False             180  Tue Jun 02 01:59:59 +0000 2009  \n",
       "4          False            2652  Mon Aug 20 09:43:48 +0000 2012  "
      ]
     },
     "execution_count": 3,
     "metadata": {},
     "output_type": "execute_result"
    }
   ],
   "source": [
    "tweet_data = pd.read_feather('data/tweets_data.feather')\n",
    "tweet_data.head()"
   ]
  },
  {
   "cell_type": "markdown",
   "metadata": {},
   "source": [
    "### Quick Info"
   ]
  },
  {
   "cell_type": "code",
   "execution_count": 4,
   "metadata": {},
   "outputs": [
    {
     "name": "stdout",
     "output_type": "stream",
     "text": [
      "<class 'pandas.core.frame.DataFrame'>\n",
      "RangeIndex: 657307 entries, 0 to 657306\n",
      "Data columns (total 10 columns):\n",
      " #   Column              Non-Null Count   Dtype \n",
      "---  ------              --------------   ----- \n",
      " 0   created_at          657307 non-null  object\n",
      " 1   text                657307 non-null  object\n",
      " 2   lang                657307 non-null  object\n",
      " 3   full_location       657276 non-null  object\n",
      " 4   country             657276 non-null  object\n",
      " 5   favorite_count      657307 non-null  int64 \n",
      " 6   retweet_count       657307 non-null  int64 \n",
      " 7   verified_user       657307 non-null  bool  \n",
      " 8   follower_count      657307 non-null  int64 \n",
      " 9   user_creation_date  657307 non-null  object\n",
      "dtypes: bool(1), int64(3), object(6)\n",
      "memory usage: 45.8+ MB\n"
     ]
    }
   ],
   "source": [
    "tweet_data.info()"
   ]
  },
  {
   "cell_type": "markdown",
   "metadata": {},
   "source": [
    "#### Looks like location data is missing in a few rows"
   ]
  },
  {
   "cell_type": "code",
   "execution_count": 5,
   "metadata": {},
   "outputs": [],
   "source": [
    "tweet_usa = tweet_data[tweet_data['country']=='United States']"
   ]
  },
  {
   "cell_type": "code",
   "execution_count": 6,
   "metadata": {},
   "outputs": [
    {
     "name": "stdout",
     "output_type": "stream",
     "text": [
      "<class 'pandas.core.frame.DataFrame'>\n",
      "Int64Index: 591990 entries, 0 to 657306\n",
      "Data columns (total 10 columns):\n",
      " #   Column              Non-Null Count   Dtype \n",
      "---  ------              --------------   ----- \n",
      " 0   created_at          591990 non-null  object\n",
      " 1   text                591990 non-null  object\n",
      " 2   lang                591990 non-null  object\n",
      " 3   full_location       591990 non-null  object\n",
      " 4   country             591990 non-null  object\n",
      " 5   favorite_count      591990 non-null  int64 \n",
      " 6   retweet_count       591990 non-null  int64 \n",
      " 7   verified_user       591990 non-null  bool  \n",
      " 8   follower_count      591990 non-null  int64 \n",
      " 9   user_creation_date  591990 non-null  object\n",
      "dtypes: bool(1), int64(3), object(6)\n",
      "memory usage: 45.7+ MB\n"
     ]
    }
   ],
   "source": [
    "tweet_usa.info()"
   ]
  },
  {
   "cell_type": "markdown",
   "metadata": {},
   "source": [
    "#### Now every US tweet has matching location data"
   ]
  },
  {
   "cell_type": "code",
   "execution_count": 7,
   "metadata": {},
   "outputs": [
    {
     "data": {
      "text/html": [
       "<div>\n",
       "<style scoped>\n",
       "    .dataframe tbody tr th:only-of-type {\n",
       "        vertical-align: middle;\n",
       "    }\n",
       "\n",
       "    .dataframe tbody tr th {\n",
       "        vertical-align: top;\n",
       "    }\n",
       "\n",
       "    .dataframe thead th {\n",
       "        text-align: right;\n",
       "    }\n",
       "</style>\n",
       "<table border=\"1\" class=\"dataframe\">\n",
       "  <thead>\n",
       "    <tr style=\"text-align: right;\">\n",
       "      <th></th>\n",
       "      <th>created_at</th>\n",
       "      <th>text</th>\n",
       "      <th>lang</th>\n",
       "      <th>full_location</th>\n",
       "      <th>country</th>\n",
       "      <th>favorite_count</th>\n",
       "      <th>retweet_count</th>\n",
       "      <th>verified_user</th>\n",
       "      <th>follower_count</th>\n",
       "      <th>user_creation_date</th>\n",
       "    </tr>\n",
       "  </thead>\n",
       "  <tbody>\n",
       "    <tr>\n",
       "      <th>count</th>\n",
       "      <td>591990</td>\n",
       "      <td>591990</td>\n",
       "      <td>591990</td>\n",
       "      <td>591990</td>\n",
       "      <td>591990</td>\n",
       "      <td>591990.0</td>\n",
       "      <td>591990.0</td>\n",
       "      <td>591990</td>\n",
       "      <td>5.919900e+05</td>\n",
       "      <td>591990</td>\n",
       "    </tr>\n",
       "    <tr>\n",
       "      <th>unique</th>\n",
       "      <td>512832</td>\n",
       "      <td>584414</td>\n",
       "      <td>39</td>\n",
       "      <td>9843</td>\n",
       "      <td>1</td>\n",
       "      <td>NaN</td>\n",
       "      <td>NaN</td>\n",
       "      <td>2</td>\n",
       "      <td>NaN</td>\n",
       "      <td>67152</td>\n",
       "    </tr>\n",
       "    <tr>\n",
       "      <th>top</th>\n",
       "      <td>Fri Sep 09 16:36:38 +0000 2016</td>\n",
       "      <td>@realDonaldTrump</td>\n",
       "      <td>en</td>\n",
       "      <td>Florida, USA</td>\n",
       "      <td>United States</td>\n",
       "      <td>NaN</td>\n",
       "      <td>NaN</td>\n",
       "      <td>False</td>\n",
       "      <td>NaN</td>\n",
       "      <td>Wed Feb 17 16:55:49 +0000 2010</td>\n",
       "    </tr>\n",
       "    <tr>\n",
       "      <th>freq</th>\n",
       "      <td>7</td>\n",
       "      <td>441</td>\n",
       "      <td>517138</td>\n",
       "      <td>17536</td>\n",
       "      <td>591990</td>\n",
       "      <td>NaN</td>\n",
       "      <td>NaN</td>\n",
       "      <td>587209</td>\n",
       "      <td>NaN</td>\n",
       "      <td>6244</td>\n",
       "    </tr>\n",
       "    <tr>\n",
       "      <th>mean</th>\n",
       "      <td>NaN</td>\n",
       "      <td>NaN</td>\n",
       "      <td>NaN</td>\n",
       "      <td>NaN</td>\n",
       "      <td>NaN</td>\n",
       "      <td>0.0</td>\n",
       "      <td>0.0</td>\n",
       "      <td>NaN</td>\n",
       "      <td>2.673875e+03</td>\n",
       "      <td>NaN</td>\n",
       "    </tr>\n",
       "    <tr>\n",
       "      <th>std</th>\n",
       "      <td>NaN</td>\n",
       "      <td>NaN</td>\n",
       "      <td>NaN</td>\n",
       "      <td>NaN</td>\n",
       "      <td>NaN</td>\n",
       "      <td>0.0</td>\n",
       "      <td>0.0</td>\n",
       "      <td>NaN</td>\n",
       "      <td>3.862358e+04</td>\n",
       "      <td>NaN</td>\n",
       "    </tr>\n",
       "    <tr>\n",
       "      <th>min</th>\n",
       "      <td>NaN</td>\n",
       "      <td>NaN</td>\n",
       "      <td>NaN</td>\n",
       "      <td>NaN</td>\n",
       "      <td>NaN</td>\n",
       "      <td>0.0</td>\n",
       "      <td>0.0</td>\n",
       "      <td>NaN</td>\n",
       "      <td>0.000000e+00</td>\n",
       "      <td>NaN</td>\n",
       "    </tr>\n",
       "    <tr>\n",
       "      <th>25%</th>\n",
       "      <td>NaN</td>\n",
       "      <td>NaN</td>\n",
       "      <td>NaN</td>\n",
       "      <td>NaN</td>\n",
       "      <td>NaN</td>\n",
       "      <td>0.0</td>\n",
       "      <td>0.0</td>\n",
       "      <td>NaN</td>\n",
       "      <td>9.200000e+01</td>\n",
       "      <td>NaN</td>\n",
       "    </tr>\n",
       "    <tr>\n",
       "      <th>50%</th>\n",
       "      <td>NaN</td>\n",
       "      <td>NaN</td>\n",
       "      <td>NaN</td>\n",
       "      <td>NaN</td>\n",
       "      <td>NaN</td>\n",
       "      <td>0.0</td>\n",
       "      <td>0.0</td>\n",
       "      <td>NaN</td>\n",
       "      <td>4.050000e+02</td>\n",
       "      <td>NaN</td>\n",
       "    </tr>\n",
       "    <tr>\n",
       "      <th>75%</th>\n",
       "      <td>NaN</td>\n",
       "      <td>NaN</td>\n",
       "      <td>NaN</td>\n",
       "      <td>NaN</td>\n",
       "      <td>NaN</td>\n",
       "      <td>0.0</td>\n",
       "      <td>0.0</td>\n",
       "      <td>NaN</td>\n",
       "      <td>1.593000e+03</td>\n",
       "      <td>NaN</td>\n",
       "    </tr>\n",
       "    <tr>\n",
       "      <th>max</th>\n",
       "      <td>NaN</td>\n",
       "      <td>NaN</td>\n",
       "      <td>NaN</td>\n",
       "      <td>NaN</td>\n",
       "      <td>NaN</td>\n",
       "      <td>0.0</td>\n",
       "      <td>0.0</td>\n",
       "      <td>NaN</td>\n",
       "      <td>1.136233e+07</td>\n",
       "      <td>NaN</td>\n",
       "    </tr>\n",
       "  </tbody>\n",
       "</table>\n",
       "</div>"
      ],
      "text/plain": [
       "                            created_at              text    lang  \\\n",
       "count                           591990            591990  591990   \n",
       "unique                          512832            584414      39   \n",
       "top     Fri Sep 09 16:36:38 +0000 2016  @realDonaldTrump      en   \n",
       "freq                                 7               441  517138   \n",
       "mean                               NaN               NaN     NaN   \n",
       "std                                NaN               NaN     NaN   \n",
       "min                                NaN               NaN     NaN   \n",
       "25%                                NaN               NaN     NaN   \n",
       "50%                                NaN               NaN     NaN   \n",
       "75%                                NaN               NaN     NaN   \n",
       "max                                NaN               NaN     NaN   \n",
       "\n",
       "       full_location        country  favorite_count  retweet_count  \\\n",
       "count         591990         591990        591990.0       591990.0   \n",
       "unique          9843              1             NaN            NaN   \n",
       "top     Florida, USA  United States             NaN            NaN   \n",
       "freq           17536         591990             NaN            NaN   \n",
       "mean             NaN            NaN             0.0            0.0   \n",
       "std              NaN            NaN             0.0            0.0   \n",
       "min              NaN            NaN             0.0            0.0   \n",
       "25%              NaN            NaN             0.0            0.0   \n",
       "50%              NaN            NaN             0.0            0.0   \n",
       "75%              NaN            NaN             0.0            0.0   \n",
       "max              NaN            NaN             0.0            0.0   \n",
       "\n",
       "       verified_user  follower_count              user_creation_date  \n",
       "count         591990    5.919900e+05                          591990  \n",
       "unique             2             NaN                           67152  \n",
       "top            False             NaN  Wed Feb 17 16:55:49 +0000 2010  \n",
       "freq          587209             NaN                            6244  \n",
       "mean             NaN    2.673875e+03                             NaN  \n",
       "std              NaN    3.862358e+04                             NaN  \n",
       "min              NaN    0.000000e+00                             NaN  \n",
       "25%              NaN    9.200000e+01                             NaN  \n",
       "50%              NaN    4.050000e+02                             NaN  \n",
       "75%              NaN    1.593000e+03                             NaN  \n",
       "max              NaN    1.136233e+07                             NaN  "
      ]
     },
     "execution_count": 7,
     "metadata": {},
     "output_type": "execute_result"
    }
   ],
   "source": [
    "tweet_usa.describe(include=\"all\")"
   ]
  },
  {
   "cell_type": "code",
   "execution_count": 8,
   "metadata": {},
   "outputs": [
    {
     "data": {
      "text/plain": [
       "en     517138\n",
       "und     66847\n",
       "es       2721\n",
       "fr       1006\n",
       "tl        855\n",
       "in        501\n",
       "ht        487\n",
       "de        444\n",
       "pt        245\n",
       "it        199\n",
       "Name: lang, dtype: int64"
      ]
     },
     "execution_count": 8,
     "metadata": {},
     "output_type": "execute_result"
    }
   ],
   "source": [
    "tweet_usa['lang'].value_counts().head(10)"
   ]
  },
  {
   "cell_type": "markdown",
   "metadata": {},
   "source": [
    "### Selecting English tweets"
   ]
  },
  {
   "cell_type": "code",
   "execution_count": 9,
   "metadata": {},
   "outputs": [],
   "source": [
    "tweet_usa_en = tweet_usa[tweet_usa['lang'] == 'en']"
   ]
  },
  {
   "cell_type": "code",
   "execution_count": 10,
   "metadata": {},
   "outputs": [
    {
     "data": {
      "text/plain": [
       "en    517138\n",
       "Name: lang, dtype: int64"
      ]
     },
     "execution_count": 10,
     "metadata": {},
     "output_type": "execute_result"
    }
   ],
   "source": [
    "tweet_usa_en['lang'].value_counts()"
   ]
  },
  {
   "cell_type": "markdown",
   "metadata": {},
   "source": [
    "### Extracting State data from 'full_location'"
   ]
  },
  {
   "cell_type": "code",
   "execution_count": 11,
   "metadata": {},
   "outputs": [],
   "source": [
    "def extract_state(item):\n",
    "    if item[-3] == \" \":\n",
    "        state = item[-2:]\n",
    "    else:\n",
    "        state = 'NA'\n",
    "    return state"
   ]
  },
  {
   "cell_type": "markdown",
   "metadata": {},
   "source": [
    "#### Need to figure out why this warning is being thrown.."
   ]
  },
  {
   "cell_type": "code",
   "execution_count": 12,
   "metadata": {},
   "outputs": [
    {
     "name": "stderr",
     "output_type": "stream",
     "text": [
      "<ipython-input-12-c5a3e557c3e8>:1: SettingWithCopyWarning: \n",
      "A value is trying to be set on a copy of a slice from a DataFrame.\n",
      "Try using .loc[row_indexer,col_indexer] = value instead\n",
      "\n",
      "See the caveats in the documentation: https://pandas.pydata.org/pandas-docs/stable/user_guide/indexing.html#returning-a-view-versus-a-copy\n",
      "  tweet_usa_en['state'] = tweet_usa_en['full_location'].apply(extract_state)\n"
     ]
    }
   ],
   "source": [
    "tweet_usa_en['state'] = tweet_usa_en['full_location'].apply(extract_state)"
   ]
  },
  {
   "cell_type": "code",
   "execution_count": 13,
   "metadata": {},
   "outputs": [
    {
     "data": {
      "text/plain": [
       "WY    346\n",
       "SD    300\n",
       "VT    261\n",
       "ND    246\n",
       "HQ     18\n",
       "11      2\n",
       "C1      1\n",
       "Ca      1\n",
       "D9      1\n",
       "Us      1\n",
       "#1      1\n",
       "16      1\n",
       "24      1\n",
       "Mo      1\n",
       "St      1\n",
       "Name: state, dtype: int64"
      ]
     },
     "execution_count": 13,
     "metadata": {},
     "output_type": "execute_result"
    }
   ],
   "source": [
    "tweet_usa_en['state'].value_counts().tail(15)"
   ]
  },
  {
   "cell_type": "markdown",
   "metadata": {},
   "source": [
    "#### Extraction function is still grabbing non-state data"
   ]
  },
  {
   "cell_type": "code",
   "execution_count": 14,
   "metadata": {},
   "outputs": [],
   "source": [
    "freq = tweet_usa_en['state'].value_counts()\n",
    "frequent_values = freq[freq >= 100].index"
   ]
  },
  {
   "cell_type": "code",
   "execution_count": 15,
   "metadata": {},
   "outputs": [],
   "source": [
    "states_idx = frequent_values.delete(0) # Removing 'NA'"
   ]
  },
  {
   "cell_type": "code",
   "execution_count": 16,
   "metadata": {},
   "outputs": [
    {
     "data": {
      "text/plain": [
       "Index(['CA', 'NY', 'FL', 'TX', 'IL', 'NJ', 'AZ', 'PA', 'OH', 'MA', 'WA', 'VA',\n",
       "       'NC', 'MD', 'GA', 'MI', 'TN', 'NV', 'OR', 'CO', 'MO', 'AL', 'IN', 'DC',\n",
       "       'WI', 'CT', 'SC', 'MN', 'LA', 'IA', 'OK', 'KY', 'NM', 'HI', 'KS', 'UT',\n",
       "       'MS', 'NH', 'RI', 'ME', 'NE', 'ID', 'AR', 'WV', 'AK', 'DE', 'MT', 'WY',\n",
       "       'SD', 'VT', 'ND'],\n",
       "      dtype='object')"
      ]
     },
     "execution_count": 16,
     "metadata": {},
     "output_type": "execute_result"
    }
   ],
   "source": [
    "states_idx"
   ]
  },
  {
   "cell_type": "code",
   "execution_count": 17,
   "metadata": {},
   "outputs": [
    {
     "data": {
      "text/plain": [
       "51"
      ]
     },
     "execution_count": 17,
     "metadata": {},
     "output_type": "execute_result"
    }
   ],
   "source": [
    "states_idx.size"
   ]
  },
  {
   "cell_type": "markdown",
   "metadata": {},
   "source": [
    "#### Size check out: 50 states + DC"
   ]
  },
  {
   "cell_type": "code",
   "execution_count": 18,
   "metadata": {},
   "outputs": [],
   "source": [
    "# reset index after dropping rows to meet Feather index requirement\n",
    "tweet_state = tweet_usa_en[tweet_usa_en['state'].isin(states_idx)].reset_index(drop=True)"
   ]
  },
  {
   "cell_type": "code",
   "execution_count": 19,
   "metadata": {},
   "outputs": [
    {
     "name": "stdout",
     "output_type": "stream",
     "text": [
      "<class 'pandas.core.frame.DataFrame'>\n",
      "RangeIndex: 382011 entries, 0 to 382010\n",
      "Data columns (total 11 columns):\n",
      " #   Column              Non-Null Count   Dtype \n",
      "---  ------              --------------   ----- \n",
      " 0   created_at          382011 non-null  object\n",
      " 1   text                382011 non-null  object\n",
      " 2   lang                382011 non-null  object\n",
      " 3   full_location       382011 non-null  object\n",
      " 4   country             382011 non-null  object\n",
      " 5   favorite_count      382011 non-null  int64 \n",
      " 6   retweet_count       382011 non-null  int64 \n",
      " 7   verified_user       382011 non-null  bool  \n",
      " 8   follower_count      382011 non-null  int64 \n",
      " 9   user_creation_date  382011 non-null  object\n",
      " 10  state               382011 non-null  object\n",
      "dtypes: bool(1), int64(3), object(7)\n",
      "memory usage: 29.5+ MB\n"
     ]
    }
   ],
   "source": [
    "tweet_state.info()"
   ]
  },
  {
   "cell_type": "code",
   "execution_count": 20,
   "metadata": {},
   "outputs": [
    {
     "data": {
      "image/png": "[encoded data removed]",
      "text/plain": [
       "<Figure size 432x288 with 1 Axes>"
      ]
     },
     "metadata": {},
     "output_type": "display_data"
    }
   ],
   "source": [
    "perc_state = tweet_state['state'].value_counts(normalize=True).sort_values(ascending=False)*100\n",
    "fig, ax = plt.subplots()\n",
    "ax.set_xlabel('States')\n",
    "ax.set_ylabel('% of Tweets')\n",
    "ax.set_title('% of Tweets by State', fontweight='bold')\n",
    "_= perc_state[:15].plot(kind='pie')"
   ]
  },
  {
   "cell_type": "code",
   "execution_count": 21,
   "metadata": {},
   "outputs": [],
   "source": [
    "tweet_state.to_feather(r'data/tweets_by_state.feather')"
   ]
  }
 ],
 "metadata": {
  "kernelspec": {
   "display_name": "Python 3",
   "language": "python",
   "name": "python3"
  },
  "language_info": {
   "codemirror_mode": {
    "name": "ipython",
    "version": 3
   },
   "file_extension": ".py",
   "mimetype": "text/x-python",
   "name": "python",
   "nbconvert_exporter": "python",
   "pygments_lexer": "ipython3",
   "version": "3.8.3"
  }
 },
 "nbformat": 4,
 "nbformat_minor": 4
}
