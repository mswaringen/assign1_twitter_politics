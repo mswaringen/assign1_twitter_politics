import pandas as pd 

df = pd.read_json(r'/datasets/geotagged_tweets_20160812-0912.jsons')
print (df)